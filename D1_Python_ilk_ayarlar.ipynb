{
  "nbformat": 4,
  "nbformat_minor": 0,
  "metadata": {
    "colab": {
      "provenance": []
    },
    "kernelspec": {
      "name": "python3",
      "display_name": "Python 3"
    },
    "language_info": {
      "name": "python"
    }
  },
  "cells": [
    {
      "cell_type": "markdown",
      "source": [
        "İGÜ HEE ALGORİTMA DERSİ 01.10.2024\n",
        "\n",
        "İLK PYTHON PROGRAMLAMA DİLİ ÇIKTISIDIR."
      ],
      "metadata": {
        "id": "G0qf03q6c0aW"
      }
    },
    {
      "cell_type": "code",
      "source": [
        "print(\"Merhaba IGU HEE Algoritma Sınıfı\") # İLK ÇIKTI"
      ],
      "metadata": {
        "colab": {
          "base_uri": "https://localhost:8080/"
        },
        "id": "tcBiaONqczp2",
        "outputId": "9b11d3bd-2d27-4b5d-f0d7-757e85a9f584"
      },
      "execution_count": 1,
      "outputs": [
        {
          "output_type": "stream",
          "name": "stdout",
          "text": [
            "Merhaba IGU HEE Algoritma Sınıfı\n"
          ]
        }
      ]
    },
    {
      "cell_type": "code",
      "source": [
        "import sys # import python proglamlama dilinde yazılıma kütüphane eklemeye yarar\n",
        "print(sys.version)"
      ],
      "metadata": {
        "colab": {
          "base_uri": "https://localhost:8080/"
        },
        "id": "tE_kWhiveTAY",
        "outputId": "91ef534e-4adf-489a-c3c0-f5e41ea41f64"
      },
      "execution_count": 2,
      "outputs": [
        {
          "output_type": "stream",
          "name": "stdout",
          "text": [
            "3.10.12 (main, Sep 11 2024, 15:47:36) [GCC 11.4.0]\n"
          ]
        }
      ]
    },
    {
      "cell_type": "code",
      "source": [
        "from google.colab import drive # google cloab - drive bağlnma kodu\n",
        "drive.mount('/content/drive')"
      ],
      "metadata": {
        "colab": {
          "base_uri": "https://localhost:8080/"
        },
        "id": "XXJB6dYYh0Be",
        "outputId": "1546bda4-7393-4517-a0b9-cc714b646abc"
      },
      "execution_count": 3,
      "outputs": [
        {
          "output_type": "stream",
          "name": "stdout",
          "text": [
            "Mounted at /content/drive\n"
          ]
        }
      ]
    },
    {
      "cell_type": "code",
      "source": [
        "import os\n",
        "os.chdir('/content/drive/My Drive/IGU_ALGORITMA')\n",
        "!pwd # bize kodun çıktısını dosya yolu olarak veren kod blogudur."
      ],
      "metadata": {
        "colab": {
          "base_uri": "https://localhost:8080/"
        },
        "id": "MECPM8OQiamH",
        "outputId": "f7c1c676-06e2-444e-b30b-de91283ed642"
      },
      "execution_count": 5,
      "outputs": [
        {
          "output_type": "stream",
          "name": "stdout",
          "text": [
            "/content/drive/My Drive/IGU_ALGORITMA\n"
          ]
        }
      ]
    }
  ]
}